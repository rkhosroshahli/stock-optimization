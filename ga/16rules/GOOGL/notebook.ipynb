{
 "cells": [
  {
   "cell_type": "code",
   "execution_count": null,
   "metadata": {
    "colab": {
     "base_uri": "https://localhost:8080/"
    },
    "id": "fohVxTZcmAAZ",
    "outputId": "8487958c-6807-4e39-fcc8-b075f5122846"
   },
   "outputs": [],
   "source": [
    "!pip3 install yfinance"
   ]
  },
  {
   "cell_type": "code",
   "execution_count": null,
   "metadata": {
    "colab": {
     "base_uri": "https://localhost:8080/"
    },
    "id": "-fGI-MizmzzN",
    "outputId": "74b360bb-fb5c-43a1-9503-296f252ea1de"
   },
   "outputs": [],
   "source": [
    "!pip3 install ta"
   ]
  },
  {
   "cell_type": "code",
   "execution_count": 1,
   "metadata": {
    "id": "C833uKVAjRsY"
   },
   "outputs": [],
   "source": [
    "import numpy as np\n",
    "import matplotlib.pyplot as plt\n",
    "import pandas as pd\n",
    "import os\n",
    "import yfinance as yf\n",
    "\n",
    "from ta.trend import sma_indicator, ema_indicator"
   ]
  },
  {
   "cell_type": "code",
   "execution_count": 2,
   "metadata": {},
   "outputs": [],
   "source": [
    "ticker=\"GOOGL\""
   ]
  },
  {
   "cell_type": "code",
   "execution_count": 3,
   "metadata": {
    "id": "0kfpZMZmncEE"
   },
   "outputs": [],
   "source": [
    "fillna=False\n",
    "msft = yf.Ticker(ticker)\n",
    "df_ticker = msft.history(period=\"max\")\n",
    "\n",
    "sma_days=9\n",
    "df_ticker[f'trend_sma_{sma_days}'] = sma_indicator(close=df_ticker['Close'], window=sma_days, fillna=fillna)\n",
    "sma_days=20\n",
    "df_ticker[f'trend_sma_{sma_days}'] = sma_indicator(close=df_ticker['Close'], window=sma_days, fillna=fillna)\n",
    "sma_days=50\n",
    "df_ticker[f'trend_sma_{sma_days}'] = sma_indicator(close=df_ticker['Close'], window=sma_days, fillna=fillna)\n",
    "sma_days=200\n",
    "df_ticker[f'trend_sma_{sma_days}'] = sma_indicator(close=df_ticker['Close'], window=sma_days, fillna=fillna)\n",
    "\n",
    "ema_days=9\n",
    "df_ticker[f'trend_ema_{ema_days}'] = ema_indicator(close=df_ticker['Close'], window=ema_days, fillna=fillna)\n",
    "ema_days=20\n",
    "df_ticker[f'trend_ema_{ema_days}'] = ema_indicator(close=df_ticker['Close'], window=ema_days, fillna=fillna)\n",
    "ema_days=50\n",
    "df_ticker[f'trend_ema_{ema_days}'] = ema_indicator(close=df_ticker['Close'], window=ema_days, fillna=fillna)\n",
    "ema_days=200\n",
    "df_ticker[f'trend_ema_{ema_days}'] = ema_indicator(close=df_ticker['Close'], window=ema_days, fillna=fillna)"
   ]
  },
  {
   "cell_type": "code",
   "execution_count": 4,
   "metadata": {
    "id": "rlt-6FHVxt4-"
   },
   "outputs": [],
   "source": [
    "df1 = df_ticker.copy()\n",
    "df2 = df_ticker.shift(1)"
   ]
  },
  {
   "cell_type": "code",
   "execution_count": 5,
   "metadata": {
    "id": "-oH7K8ZkxwLd"
   },
   "outputs": [],
   "source": [
    "#df_2 - df_1\n",
    "df21 = (df1 - df2)\n",
    "#df.dropna()"
   ]
  },
  {
   "cell_type": "code",
   "execution_count": 6,
   "metadata": {},
   "outputs": [
    {
     "data": {
      "text/plain": [
       "(4664, 16)"
      ]
     },
     "execution_count": 6,
     "metadata": {},
     "output_type": "execute_result"
    }
   ],
   "source": [
    "temp=[\n",
    "    df21['trend_sma_9'] > 0,\n",
    "    df21['trend_ema_9'] > 0,\n",
    "    df21['trend_sma_20'] > 0,\n",
    "    df21['trend_ema_20'] > 0,\n",
    "    df21['trend_sma_50'] > 0,\n",
    "    df21['trend_ema_50'] > 0,\n",
    "    df21['trend_sma_200'] > 0,\n",
    "    df21['trend_ema_200'] > 0,\n",
    "    ((df1['trend_sma_9'] <= df1['trend_ema_9']) & (df2['trend_sma_9'] >= df2['trend_ema_9'])),\n",
    "    ((df1['trend_ema_9'] <= df1['trend_sma_9']) & (df2['trend_ema_9'] >= df2['trend_sma_9'])),\n",
    "    ((df1['trend_sma_20'] <= df1['trend_ema_20']) & (df2['trend_sma_20'] >= df2['trend_ema_20'])),\n",
    "    ((df1['trend_ema_20'] <= df1['trend_sma_20']) & (df2['trend_ema_20'] >= df2['trend_sma_20'])),\n",
    "    ((df1['trend_sma_50'] <= df1['trend_ema_50']) & (df2['trend_sma_50'] >= df2['trend_ema_50'])),\n",
    "    ((df1['trend_ema_50'] <= df1['trend_sma_50']) & (df2['trend_ema_50'] >= df2['trend_sma_50'])),\n",
    "    ((df1['trend_sma_200'] <= df1['trend_ema_200']) & (df2['trend_sma_200'] >= df2['trend_ema_200'])),\n",
    "    ((df1['trend_ema_200'] <= df1['trend_sma_200']) & (df2['trend_ema_200'] >= df2['trend_sma_200'])),\n",
    "    \n",
    "     ]\n",
    "\n",
    "all_rules = np.array(temp).T\n",
    "\n",
    "all_rules.shape"
   ]
  },
  {
   "cell_type": "code",
   "execution_count": 7,
   "metadata": {},
   "outputs": [],
   "source": [
    "# genetic algorithm search of the one max optimization problem\n",
    "from numpy.random import randint\n",
    "from numpy.random import rand\n",
    "\n",
    "\n",
    "# tournament selection\n",
    "def selection(pop, scores, k=3):\n",
    "\t# first random selection\n",
    "\tselection_ix = randint(len(pop))\n",
    "\tfor ix in randint(0, len(pop), k-1):\n",
    "\t\t# check if better (e.g. perform a tournament)\n",
    "\t\tif scores[ix] > scores[selection_ix]:\n",
    "\t\t\tselection_ix = ix\n",
    "\treturn pop[selection_ix]\n",
    "\n",
    "# crossover two parents to create two children\n",
    "def crossover(p1, p2, r_cross):\n",
    "\t# children are copies of parents by default\n",
    "\tc1, c2 = p1.copy(), p2.copy()\n",
    "\t# check for recombination\n",
    "\tif rand() < r_cross:\n",
    "\t\t# select crossover point that is not on the end of the string\n",
    "\t\tpt = randint(1, len(p1)-2)\n",
    "\t\t# perform crossover\n",
    "\t\tc1 = p1[:pt] + p2[pt:]\n",
    "\t\tc2 = p2[:pt] + p1[pt:]\n",
    "\treturn [c1, c2]\n",
    "\n",
    "# mutation operator\n",
    "def mutation(bitstring, r_mut):\n",
    "\tfor i in range(len(bitstring)):\n",
    "\t\t# check for a mutation\n",
    "\t\tif rand() < r_mut:\n",
    "\t\t\t# flip the bit\n",
    "\t\t\tbitstring[i] = 1 - bitstring[i]\n",
    "\n",
    "# genetic algorithm\n",
    "def genetic_algorithm(objective, n_bits, n_iter, n_pop, r_cross, r_mut):\n",
    "    # initial population of random bitstring\n",
    "    # pop = randint(2, size=(num_genes, all_rules.shape[1]+4))\n",
    "    pop = [randint(0, 2, n_bits).tolist() for _ in range(n_pop)]\n",
    "    # keep track of best solution\n",
    "    best, best_eval = 0, 0\n",
    "    all_best_evals=np.zeros(n_iter)\n",
    "    # enumerate generations\n",
    "    for gen in range(n_iter):\n",
    "        # evaluate all candidates in the population\n",
    "        objs = [objective(c, i, gen) for i, c in enumerate(pop)]\n",
    "        # check for new best solution\n",
    "        scores=np.zeros(n_pop)\n",
    "        for i in range(n_pop):\n",
    "            \n",
    "            score, df = objs[i]\n",
    "            scores[i]=score\n",
    "            if scores[i] > best_eval:\n",
    "                best, best_eval = pop[i], scores[i]\n",
    "                print(\">%d, new best f(%s) = %.3f\" % (gen,  pop[i], scores[i]))\n",
    "                new_row=['Sum', '', '', '', '', scores[i]]\n",
    "                new_df=pd.DataFrame([new_row], columns=cols)\n",
    "                df=pd.concat([df, new_df], ignore_index=True)\n",
    "                df.to_csv(f\"./{n_iter}generation-outputs/gen{gen}_sol{i}_transactions.csv\", index=False)\n",
    "                np.save(f\"./{n_iter}generation-outputs/gen{gen}_sol{i}_rules\", best)\n",
    "            all_best_evals[gen] = best_eval\n",
    "        # select parents\n",
    "        selected = [selection(pop, scores) for _ in range(n_pop)]\n",
    "        # create the next generation\n",
    "        children = list()\n",
    "        for i in range(0, n_pop, 2):\n",
    "            # get selected parents in pairs\n",
    "            p1, p2 = selected[i], selected[i+1]\n",
    "            # crossover and mutation\n",
    "            for c in crossover(p1, p2, r_cross):\n",
    "                # mutation\n",
    "                mutation(c, r_mut)\n",
    "                # store for next generation\n",
    "                children.append(c)\n",
    "        # replace population\n",
    "        pop = children\n",
    "    \n",
    "    return best, best_eval, all_best_evals"
   ]
  },
  {
   "cell_type": "code",
   "execution_count": 8,
   "metadata": {
    "id": "Cu_p7RhyEQL_"
   },
   "outputs": [],
   "source": [
    "cols=['T', 'Buy date', 'Buy price', 'Sell date',  'Sell price', 'Profit Ratio']\n",
    "def fitness_func(sol, sol_idx, generation_counter):\n",
    "    sol=np.array(sol)\n",
    "    \n",
    "    df=pd.DataFrame(columns=cols)\n",
    "\n",
    "    all_profit = []\n",
    "    current_day, buy_day, sell_day = 200, 0, 0\n",
    "    conds = np.zeros(sol.shape[0]-1)\n",
    "    trans_counter=0\n",
    "    hold_days = 0\n",
    "    for ele in sol[-4:].astype(dtype=int):\n",
    "        hold_days = (hold_days << 1) | ele\n",
    "    \n",
    "    # print(hold_days, sol[-4:])\n",
    "    hold_days+=1\n",
    "        \n",
    "    counter=0\n",
    "    while current_day < df1.shape[0]:\n",
    "        counter+=1\n",
    "        if current_day+hold_days >= df1.shape[0]:\n",
    "            break\n",
    "            \n",
    "        conds = all_rules[current_day].astype(dtype=int) ^ sol[:-4].astype(dtype=int)\n",
    "        if sum(conds)==0:\n",
    "            if buy_day==0: #if the buy signal is seen and buy hasn't been initialized\n",
    "                trans_counter+=1\n",
    "                buy_day=current_day\n",
    "                buy_price=df1.iloc[buy_day+1]['Open']\n",
    "                buy_date=df1.iloc[buy_day+1].name.strftime(\"%m/%d/%Y\")\n",
    "                \n",
    "                current_day=int(hold_days+buy_day)\n",
    "                sell_day=current_day\n",
    "                sell_price=df1.iloc[sell_day]['Close']\n",
    "                sell_date=df1.iloc[sell_day].name.strftime(\"%m/%d/%Y\")\n",
    "                \n",
    "                profit=(sell_price-buy_price)/buy_price\n",
    "                all_profit.append(profit)\n",
    "                new_row=[f'T{trans_counter}', buy_date, buy_price, sell_date, sell_price, profit]\n",
    "                new_df=pd.DataFrame([new_row], columns=cols)\n",
    "                df=pd.concat([df, new_df], ignore_index=True)\n",
    "                buy_day=0\n",
    "        else:\n",
    "            current_day+=1\n",
    "        conds = np.zeros(sol.shape[0]-1)\n",
    "    \n",
    "    if len(all_profit) > 0:\n",
    "        fitness_val = np.mean(all_profit)\n",
    "        \"\"\"if fitness_val > best_gen_fitness_val:\n",
    "            new_row=[f'Sum', '', '', '', '', fitness_val]\n",
    "            new_df=pd.DataFrame([new_row], columns=cols)\n",
    "            df=pd.concat([df, new_df], ignore_index=True)\n",
    "            df.to_csv(f\"./outputs/gen{generation_counter}_sol{sol_idx}_transactions.csv\", index=False)\n",
    "            np.save(f\"./outputs/gen{generation_counter}_sol{sol_idx}_rules\", sol)\n",
    "            best_gen_fitness_val=fitness_val\"\"\"\n",
    "        return fitness_val, df\n",
    "    else:\n",
    "        return 0.0, df"
   ]
  },
  {
   "cell_type": "code",
   "execution_count": 9,
   "metadata": {},
   "outputs": [],
   "source": [
    "# define the total iterations\n",
    "n_iter = 100\n",
    "# bits\n",
    "n_bits = all_rules.shape[1]+4\n",
    "# define the population size\n",
    "n_pop = 100\n",
    "# crossover rate\n",
    "r_cross = 0.9\n",
    "# mutation rate\n",
    "r_mut = 1.0 / float(n_bits)\n",
    "os.mkdir(f\"{n_iter}generation-outputs\")"
   ]
  },
  {
   "cell_type": "code",
   "execution_count": 10,
   "metadata": {},
   "outputs": [
    {
     "name": "stdout",
     "output_type": "stream",
     "text": [
      ">3, new best f([0, 1, 1, 1, 1, 0, 0, 0, 1, 0, 0, 0, 0, 0, 0, 0, 1, 1, 1, 1]) = 0.096\n",
      ">5, new best f([0, 0, 0, 0, 1, 0, 0, 0, 0, 1, 0, 0, 0, 0, 0, 0, 1, 1, 1, 1]) = 0.117\n",
      ">21, new best f([0, 1, 0, 1, 0, 1, 1, 1, 0, 0, 0, 0, 0, 0, 0, 0, 0, 1, 0, 0]) = 0.137\n",
      ">24, new best f([0, 1, 0, 1, 0, 0, 1, 1, 1, 0, 0, 0, 0, 0, 0, 0, 1, 1, 1, 1]) = 0.166\n",
      ">25, new best f([0, 1, 0, 1, 0, 0, 1, 1, 1, 0, 0, 0, 0, 0, 0, 0, 1, 1, 0, 0]) = 0.177\n",
      ">26, new best f([1, 1, 1, 1, 1, 0, 0, 0, 0, 0, 0, 0, 0, 1, 0, 0, 1, 0, 1, 0]) = 0.188\n",
      ">78, new best f([1, 1, 1, 1, 1, 1, 0, 1, 0, 0, 0, 0, 0, 0, 1, 0, 1, 1, 1, 1]) = 0.249\n",
      "Done!\n",
      "f([1, 1, 1, 1, 1, 1, 0, 1, 0, 0, 0, 0, 0, 0, 1, 0, 1, 1, 1, 1]) = 0.248652\n"
     ]
    }
   ],
   "source": [
    "# perform the genetic algorithm search\n",
    "best, score, all_scores = genetic_algorithm(fitness_func, n_bits, n_iter, n_pop, r_cross, r_mut)\n",
    "print('Done!')\n",
    "print('f(%s) = %f' % (best, score))"
   ]
  },
  {
   "cell_type": "code",
   "execution_count": 11,
   "metadata": {
    "scrolled": true
   },
   "outputs": [
    {
     "data": {
      "text/plain": [
       "Text(0.5, 1.0, 'GOOGL stock')"
      ]
     },
     "execution_count": 11,
     "metadata": {},
     "output_type": "execute_result"
    },
    {
     "data": {
      "image/png": "[encoded data removed]",
      "text/plain": [
       "<Figure size 432x288 with 1 Axes>"
      ]
     },
     "metadata": {
      "needs_background": "light"
     },
     "output_type": "display_data"
    }
   ],
   "source": [
    "plt.plot(all_scores)\n",
    "plt.xlabel(\"generation\")\n",
    "plt.ylabel(\"average of profit\")\n",
    "plt.title(f\"{ticker} stock\")"
   ]
  },
  {
   "cell_type": "code",
   "execution_count": 12,
   "metadata": {},
   "outputs": [],
   "source": [
    "# define the total iterations\n",
    "n_iter = 1000\n",
    "# bits\n",
    "n_bits = all_rules.shape[1]+4\n",
    "# define the population size\n",
    "n_pop = 100\n",
    "# crossover rate\n",
    "r_cross = 0.9\n",
    "# mutation rate\n",
    "r_mut = 1.0 / float(n_bits)\n",
    "os.mkdir(f\"{n_iter}generation-outputs\")"
   ]
  },
  {
   "cell_type": "code",
   "execution_count": 13,
   "metadata": {},
   "outputs": [
    {
     "name": "stdout",
     "output_type": "stream",
     "text": [
      ">5, new best f([1, 0, 0, 0, 0, 0, 0, 0, 0, 1, 0, 0, 0, 0, 0, 0, 0, 0, 1, 1]) = 0.042\n",
      ">6, new best f([1, 0, 0, 0, 1, 0, 1, 1, 0, 1, 0, 0, 0, 0, 0, 0, 1, 1, 0, 1]) = 0.046\n",
      ">9, new best f([1, 1, 1, 1, 0, 1, 0, 1, 0, 0, 0, 0, 0, 0, 0, 0, 1, 0, 0, 0]) = 0.049\n",
      ">10, new best f([1, 1, 1, 1, 0, 0, 0, 0, 0, 1, 0, 0, 0, 0, 0, 0, 1, 1, 1, 1]) = 0.050\n",
      ">11, new best f([1, 1, 0, 0, 0, 0, 1, 1, 0, 1, 0, 0, 0, 0, 0, 0, 1, 1, 1, 1]) = 0.057\n",
      ">11, new best f([1, 0, 0, 0, 0, 1, 1, 1, 0, 0, 0, 0, 0, 0, 0, 0, 1, 1, 1, 1]) = 0.109\n",
      ">14, new best f([1, 1, 1, 1, 1, 1, 0, 1, 0, 0, 0, 0, 0, 0, 1, 0, 1, 1, 1, 1]) = 0.249\n",
      ">783, new best f([0, 0, 0, 0, 0, 0, 0, 0, 1, 0, 0, 0, 1, 0, 0, 0, 1, 0, 0, 1]) = 0.267\n",
      ">832, new best f([0, 0, 0, 0, 0, 0, 0, 0, 1, 0, 0, 0, 1, 0, 0, 0, 0, 1, 1, 0]) = 0.275\n",
      "Done!\n",
      "f([0, 0, 0, 0, 0, 0, 0, 0, 1, 0, 0, 0, 1, 0, 0, 0, 0, 1, 1, 0]) = 0.275166\n"
     ]
    }
   ],
   "source": [
    "# perform the genetic algorithm search\n",
    "best, score, all_scores = genetic_algorithm(fitness_func, n_bits, n_iter, n_pop, r_cross, r_mut)\n",
    "print('Done!')\n",
    "print('f(%s) = %f' % (best, score))"
   ]
  },
  {
   "cell_type": "code",
   "execution_count": 14,
   "metadata": {},
   "outputs": [
    {
     "data": {
      "text/plain": [
       "Text(0.5, 1.0, 'GOOGL stock')"
      ]
     },
     "execution_count": 14,
     "metadata": {},
     "output_type": "execute_result"
    },
    {
     "data": {
      "image/png": "[encoded data removed]",
      "text/plain": [
       "<Figure size 432x288 with 1 Axes>"
      ]
     },
     "metadata": {
      "needs_background": "light"
     },
     "output_type": "display_data"
    }
   ],
   "source": [
    "plt.plot(all_scores)\n",
    "plt.xlabel(\"generation\")\n",
    "plt.ylabel(\"average of profit\")\n",
    "plt.title(f\"{ticker} stock\")"
   ]
  },
  {
   "cell_type": "code",
   "execution_count": null,
   "metadata": {},
   "outputs": [],
   "source": []
  }
 ],
 "metadata": {
  "colab": {
   "provenance": []
  },
  "kernelspec": {
   "display_name": "Python 3 (ipykernel)",
   "language": "python",
   "name": "python3"
  },
  "language_info": {
   "codemirror_mode": {
    "name": "ipython",
    "version": 3
   },
   "file_extension": ".py",
   "mimetype": "text/x-python",
   "name": "python",
   "nbconvert_exporter": "python",
   "pygments_lexer": "ipython3",
   "version": "3.9.12"
  }
 },
 "nbformat": 4,
 "nbformat_minor": 1
}
