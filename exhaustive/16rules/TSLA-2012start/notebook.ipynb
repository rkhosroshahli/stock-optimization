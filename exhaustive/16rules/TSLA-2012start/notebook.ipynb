{
 "cells": [
  {
   "cell_type": "code",
   "execution_count": null,
   "metadata": {
    "colab": {
     "base_uri": "https://localhost:8080/"
    },
    "id": "fohVxTZcmAAZ",
    "outputId": "8487958c-6807-4e39-fcc8-b075f5122846"
   },
   "outputs": [],
   "source": [
    "!pip3 install yfinance"
   ]
  },
  {
   "cell_type": "code",
   "execution_count": null,
   "metadata": {
    "colab": {
     "base_uri": "https://localhost:8080/"
    },
    "id": "-fGI-MizmzzN",
    "outputId": "74b360bb-fb5c-43a1-9503-296f252ea1de"
   },
   "outputs": [],
   "source": [
    "!pip3 install ta"
   ]
  },
  {
   "cell_type": "code",
   "execution_count": 1,
   "metadata": {
    "id": "C833uKVAjRsY"
   },
   "outputs": [],
   "source": [
    "import numpy as np\n",
    "import matplotlib.pyplot as plt\n",
    "import pandas as pd\n",
    "import os\n",
    "import yfinance as yf\n",
    "\n",
    "from ta.trend import sma_indicator, ema_indicator"
   ]
  },
  {
   "cell_type": "code",
   "execution_count": 2,
   "metadata": {},
   "outputs": [],
   "source": [
    "ticker=\"TSLA\""
   ]
  },
  {
   "cell_type": "code",
   "execution_count": 3,
   "metadata": {
    "id": "0kfpZMZmncEE"
   },
   "outputs": [],
   "source": [
    "fillna=False\n",
    "msft = yf.Ticker(ticker)\n",
    "df_ticker = msft.history(period=\"max\")\n",
    "\n",
    "sma_days=9\n",
    "df_ticker[f'trend_sma_{sma_days}'] = sma_indicator(close=df_ticker['Close'], window=sma_days, fillna=fillna)\n",
    "sma_days=20\n",
    "df_ticker[f'trend_sma_{sma_days}'] = sma_indicator(close=df_ticker['Close'], window=sma_days, fillna=fillna)\n",
    "sma_days=50\n",
    "df_ticker[f'trend_sma_{sma_days}'] = sma_indicator(close=df_ticker['Close'], window=sma_days, fillna=fillna)\n",
    "sma_days=200\n",
    "df_ticker[f'trend_sma_{sma_days}'] = sma_indicator(close=df_ticker['Close'], window=sma_days, fillna=fillna)\n",
    "\n",
    "ema_days=9\n",
    "df_ticker[f'trend_ema_{ema_days}'] = ema_indicator(close=df_ticker['Close'], window=ema_days, fillna=fillna)\n",
    "ema_days=20\n",
    "df_ticker[f'trend_ema_{ema_days}'] = ema_indicator(close=df_ticker['Close'], window=ema_days, fillna=fillna)\n",
    "ema_days=50\n",
    "df_ticker[f'trend_ema_{ema_days}'] = ema_indicator(close=df_ticker['Close'], window=ema_days, fillna=fillna)\n",
    "ema_days=200\n",
    "df_ticker[f'trend_ema_{ema_days}'] = ema_indicator(close=df_ticker['Close'], window=ema_days, fillna=fillna)"
   ]
  },
  {
   "cell_type": "code",
   "execution_count": 9,
   "metadata": {},
   "outputs": [],
   "source": [
    "df_ticker=df_ticker.loc['2012':]"
   ]
  },
  {
   "cell_type": "code",
   "execution_count": 10,
   "metadata": {},
   "outputs": [
    {
     "data": {
      "text/html": [
       "<div>\n",
       "<style scoped>\n",
       "    .dataframe tbody tr th:only-of-type {\n",
       "        vertical-align: middle;\n",
       "    }\n",
       "\n",
       "    .dataframe tbody tr th {\n",
       "        vertical-align: top;\n",
       "    }\n",
       "\n",
       "    .dataframe thead th {\n",
       "        text-align: right;\n",
       "    }\n",
       "</style>\n",
       "<table border=\"1\" class=\"dataframe\">\n",
       "  <thead>\n",
       "    <tr style=\"text-align: right;\">\n",
       "      <th></th>\n",
       "      <th>Open</th>\n",
       "      <th>High</th>\n",
       "      <th>Low</th>\n",
       "      <th>Close</th>\n",
       "      <th>Volume</th>\n",
       "      <th>Dividends</th>\n",
       "      <th>Stock Splits</th>\n",
       "      <th>trend_sma_9</th>\n",
       "      <th>trend_sma_20</th>\n",
       "      <th>trend_sma_50</th>\n",
       "      <th>trend_sma_200</th>\n",
       "      <th>trend_ema_9</th>\n",
       "      <th>trend_ema_20</th>\n",
       "      <th>trend_ema_50</th>\n",
       "      <th>trend_ema_200</th>\n",
       "    </tr>\n",
       "    <tr>\n",
       "      <th>Date</th>\n",
       "      <th></th>\n",
       "      <th></th>\n",
       "      <th></th>\n",
       "      <th></th>\n",
       "      <th></th>\n",
       "      <th></th>\n",
       "      <th></th>\n",
       "      <th></th>\n",
       "      <th></th>\n",
       "      <th></th>\n",
       "      <th></th>\n",
       "      <th></th>\n",
       "      <th></th>\n",
       "      <th></th>\n",
       "      <th></th>\n",
       "    </tr>\n",
       "  </thead>\n",
       "  <tbody>\n",
       "    <tr>\n",
       "      <th>2012-01-03 00:00:00-05:00</th>\n",
       "      <td>1.929333</td>\n",
       "      <td>1.966667</td>\n",
       "      <td>1.843333</td>\n",
       "      <td>1.872000</td>\n",
       "      <td>13921500</td>\n",
       "      <td>0</td>\n",
       "      <td>0.0</td>\n",
       "      <td>1.878444</td>\n",
       "      <td>1.972533</td>\n",
       "      <td>2.042867</td>\n",
       "      <td>1.830740</td>\n",
       "      <td>1.897822</td>\n",
       "      <td>1.948267</td>\n",
       "      <td>1.973026</td>\n",
       "      <td>1.847131</td>\n",
       "    </tr>\n",
       "    <tr>\n",
       "      <th>2012-01-04 00:00:00-05:00</th>\n",
       "      <td>1.880667</td>\n",
       "      <td>1.911333</td>\n",
       "      <td>1.833333</td>\n",
       "      <td>1.847333</td>\n",
       "      <td>9451500</td>\n",
       "      <td>0</td>\n",
       "      <td>0.0</td>\n",
       "      <td>1.877037</td>\n",
       "      <td>1.950167</td>\n",
       "      <td>2.042440</td>\n",
       "      <td>1.832400</td>\n",
       "      <td>1.887724</td>\n",
       "      <td>1.938654</td>\n",
       "      <td>1.968097</td>\n",
       "      <td>1.847133</td>\n",
       "    </tr>\n",
       "    <tr>\n",
       "      <th>2012-01-05 00:00:00-05:00</th>\n",
       "      <td>1.850667</td>\n",
       "      <td>1.862000</td>\n",
       "      <td>1.790000</td>\n",
       "      <td>1.808000</td>\n",
       "      <td>15082500</td>\n",
       "      <td>0</td>\n",
       "      <td>0.0</td>\n",
       "      <td>1.873704</td>\n",
       "      <td>1.924333</td>\n",
       "      <td>2.040533</td>\n",
       "      <td>1.834043</td>\n",
       "      <td>1.871779</td>\n",
       "      <td>1.926211</td>\n",
       "      <td>1.961818</td>\n",
       "      <td>1.846744</td>\n",
       "    </tr>\n",
       "    <tr>\n",
       "      <th>2012-01-06 00:00:00-05:00</th>\n",
       "      <td>1.813333</td>\n",
       "      <td>1.852667</td>\n",
       "      <td>1.760667</td>\n",
       "      <td>1.794000</td>\n",
       "      <td>14794500</td>\n",
       "      <td>0</td>\n",
       "      <td>0.0</td>\n",
       "      <td>1.867333</td>\n",
       "      <td>1.900067</td>\n",
       "      <td>2.038747</td>\n",
       "      <td>1.835610</td>\n",
       "      <td>1.856223</td>\n",
       "      <td>1.913619</td>\n",
       "      <td>1.955237</td>\n",
       "      <td>1.846219</td>\n",
       "    </tr>\n",
       "    <tr>\n",
       "      <th>2012-01-09 00:00:00-05:00</th>\n",
       "      <td>1.800000</td>\n",
       "      <td>1.832667</td>\n",
       "      <td>1.741333</td>\n",
       "      <td>1.816667</td>\n",
       "      <td>13455000</td>\n",
       "      <td>0</td>\n",
       "      <td>0.0</td>\n",
       "      <td>1.862519</td>\n",
       "      <td>1.887933</td>\n",
       "      <td>2.037773</td>\n",
       "      <td>1.837250</td>\n",
       "      <td>1.848312</td>\n",
       "      <td>1.904386</td>\n",
       "      <td>1.949803</td>\n",
       "      <td>1.845925</td>\n",
       "    </tr>\n",
       "  </tbody>\n",
       "</table>\n",
       "</div>"
      ],
      "text/plain": [
       "                               Open      High       Low     Close    Volume  \\\n",
       "Date                                                                          \n",
       "2012-01-03 00:00:00-05:00  1.929333  1.966667  1.843333  1.872000  13921500   \n",
       "2012-01-04 00:00:00-05:00  1.880667  1.911333  1.833333  1.847333   9451500   \n",
       "2012-01-05 00:00:00-05:00  1.850667  1.862000  1.790000  1.808000  15082500   \n",
       "2012-01-06 00:00:00-05:00  1.813333  1.852667  1.760667  1.794000  14794500   \n",
       "2012-01-09 00:00:00-05:00  1.800000  1.832667  1.741333  1.816667  13455000   \n",
       "\n",
       "                           Dividends  Stock Splits  trend_sma_9  trend_sma_20  \\\n",
       "Date                                                                            \n",
       "2012-01-03 00:00:00-05:00          0           0.0     1.878444      1.972533   \n",
       "2012-01-04 00:00:00-05:00          0           0.0     1.877037      1.950167   \n",
       "2012-01-05 00:00:00-05:00          0           0.0     1.873704      1.924333   \n",
       "2012-01-06 00:00:00-05:00          0           0.0     1.867333      1.900067   \n",
       "2012-01-09 00:00:00-05:00          0           0.0     1.862519      1.887933   \n",
       "\n",
       "                           trend_sma_50  trend_sma_200  trend_ema_9  \\\n",
       "Date                                                                  \n",
       "2012-01-03 00:00:00-05:00      2.042867       1.830740     1.897822   \n",
       "2012-01-04 00:00:00-05:00      2.042440       1.832400     1.887724   \n",
       "2012-01-05 00:00:00-05:00      2.040533       1.834043     1.871779   \n",
       "2012-01-06 00:00:00-05:00      2.038747       1.835610     1.856223   \n",
       "2012-01-09 00:00:00-05:00      2.037773       1.837250     1.848312   \n",
       "\n",
       "                           trend_ema_20  trend_ema_50  trend_ema_200  \n",
       "Date                                                                  \n",
       "2012-01-03 00:00:00-05:00      1.948267      1.973026       1.847131  \n",
       "2012-01-04 00:00:00-05:00      1.938654      1.968097       1.847133  \n",
       "2012-01-05 00:00:00-05:00      1.926211      1.961818       1.846744  \n",
       "2012-01-06 00:00:00-05:00      1.913619      1.955237       1.846219  \n",
       "2012-01-09 00:00:00-05:00      1.904386      1.949803       1.845925  "
      ]
     },
     "execution_count": 10,
     "metadata": {},
     "output_type": "execute_result"
    }
   ],
   "source": [
    "df_ticker.head()"
   ]
  },
  {
   "cell_type": "code",
   "execution_count": 11,
   "metadata": {
    "id": "rlt-6FHVxt4-"
   },
   "outputs": [],
   "source": [
    "df1 = df_ticker.copy()\n",
    "df2 = df_ticker.shift(1)"
   ]
  },
  {
   "cell_type": "code",
   "execution_count": 12,
   "metadata": {
    "id": "-oH7K8ZkxwLd"
   },
   "outputs": [],
   "source": [
    "#df_2 - df_1\n",
    "df21 = (df1 - df2)\n",
    "#df.dropna()"
   ]
  },
  {
   "cell_type": "code",
   "execution_count": 13,
   "metadata": {},
   "outputs": [
    {
     "data": {
      "text/plain": [
       "(2809, 16)"
      ]
     },
     "execution_count": 13,
     "metadata": {},
     "output_type": "execute_result"
    }
   ],
   "source": [
    "temp=[\n",
    "    df21['trend_sma_9'] > 0,\n",
    "    df21['trend_ema_9'] > 0,\n",
    "    df21['trend_sma_20'] > 0,\n",
    "    df21['trend_ema_20'] > 0,\n",
    "    df21['trend_sma_50'] > 0,\n",
    "    df21['trend_ema_50'] > 0,\n",
    "    df21['trend_sma_200'] > 0,\n",
    "    df21['trend_ema_200'] > 0,\n",
    "    ((df1['trend_sma_9'] <= df1['trend_ema_9']) & (df2['trend_sma_9'] >= df2['trend_ema_9'])),\n",
    "    ((df1['trend_ema_9'] <= df1['trend_sma_9']) & (df2['trend_ema_9'] >= df2['trend_sma_9'])),\n",
    "    ((df1['trend_sma_20'] <= df1['trend_ema_20']) & (df2['trend_sma_20'] >= df2['trend_ema_20'])),\n",
    "    ((df1['trend_ema_20'] <= df1['trend_sma_20']) & (df2['trend_ema_20'] >= df2['trend_sma_20'])),\n",
    "    ((df1['trend_sma_50'] <= df1['trend_ema_50']) & (df2['trend_sma_50'] >= df2['trend_ema_50'])),\n",
    "    ((df1['trend_ema_50'] <= df1['trend_sma_50']) & (df2['trend_ema_50'] >= df2['trend_sma_50'])),\n",
    "    ((df1['trend_sma_200'] <= df1['trend_ema_200']) & (df2['trend_sma_200'] >= df2['trend_ema_200'])),\n",
    "    ((df1['trend_ema_200'] <= df1['trend_sma_200']) & (df2['trend_ema_200'] >= df2['trend_sma_200'])),\n",
    "    \n",
    "     ]\n",
    "\n",
    "all_rules = np.array(temp).T\n",
    "\n",
    "all_rules.shape"
   ]
  },
  {
   "cell_type": "code",
   "execution_count": 18,
   "metadata": {
    "id": "Cu_p7RhyEQL_"
   },
   "outputs": [],
   "source": [
    "cols=['T', 'Buy date', 'Buy price', 'Sell date',  'Sell price', 'Profit Ratio']\n",
    "def fitness_func(sol, sol_idx, generation_counter):\n",
    "    sol=np.array(sol)\n",
    "    \n",
    "    df=pd.DataFrame(columns=cols)\n",
    "\n",
    "    all_profit = []\n",
    "    current_day, buy_day, sell_day = 0, 0, 0\n",
    "    conds = np.zeros(sol.shape[0]-1)\n",
    "    trans_counter=0\n",
    "    hold_days = 0\n",
    "    for ele in sol[-4:].astype(dtype=int):\n",
    "        hold_days = (hold_days << 1) | ele\n",
    "    \n",
    "    # print(hold_days, sol[-4:])\n",
    "    hold_days+=1\n",
    "        \n",
    "    counter=0\n",
    "    while current_day < df1.shape[0]:\n",
    "        counter+=1\n",
    "        if current_day+hold_days >= df1.shape[0]:\n",
    "            break\n",
    "            \n",
    "        conds = all_rules[current_day].astype(dtype=int) ^ sol[:-4].astype(dtype=int)\n",
    "        if sum(conds)==0:\n",
    "            if buy_day==0: #if the buy signal is seen and buy hasn't been initialized\n",
    "                trans_counter+=1\n",
    "                buy_day=current_day\n",
    "                buy_price=df1.iloc[buy_day+1]['Open']\n",
    "                buy_date=df1.iloc[buy_day+1].name.strftime(\"%m/%d/%Y\")\n",
    "                \n",
    "                current_day=int(hold_days+buy_day)\n",
    "                sell_day=current_day\n",
    "                sell_price=df1.iloc[sell_day]['Close']\n",
    "                sell_date=df1.iloc[sell_day].name.strftime(\"%m/%d/%Y\")\n",
    "                \n",
    "                profit=(sell_price-buy_price)/buy_price\n",
    "                all_profit.append(profit)\n",
    "                new_row=[f'T{trans_counter}', buy_date, buy_price, sell_date, sell_price, profit]\n",
    "                new_df=pd.DataFrame([new_row], columns=cols)\n",
    "                df=pd.concat([df, new_df], ignore_index=True)\n",
    "                buy_day=0\n",
    "        else:\n",
    "            current_day+=1\n",
    "        conds = np.zeros(sol.shape[0]-1)\n",
    "    \n",
    "    if len(all_profit) > 0:\n",
    "        fitness_val = np.mean(all_profit)\n",
    "        \"\"\"if fitness_val > best_gen_fitness_val:\n",
    "            new_row=[f'Sum', '', '', '', '', fitness_val]\n",
    "            new_df=pd.DataFrame([new_row], columns=cols)\n",
    "            df=pd.concat([df, new_df], ignore_index=True)\n",
    "            df.to_csv(f\"./outputs/gen{generation_counter}_sol{sol_idx}_transactions.csv\", index=False)\n",
    "            np.save(f\"./outputs/gen{generation_counter}_sol{sol_idx}_rules\", sol)\n",
    "            best_gen_fitness_val=fitness_val\"\"\"\n",
    "        return fitness_val, df\n",
    "    else:\n",
    "        return 0.0, df"
   ]
  },
  {
   "cell_type": "code",
   "execution_count": 19,
   "metadata": {},
   "outputs": [],
   "source": [
    "# bits\n",
    "n_bits = all_rules.shape[1]+4\n",
    "os.mkdir(f\"outputs\")"
   ]
  },
  {
   "cell_type": "code",
   "execution_count": 20,
   "metadata": {},
   "outputs": [],
   "source": [
    "from tqdm import tqdm\n",
    "def exhaustive_search(objective, n_bits):\n",
    "    # enumerate generations\n",
    "    binary_format=f'0{n_bits}b'\n",
    "    n_iter=2**n_bits\n",
    "    all_evals=np.zeros(n_iter)\n",
    "    for gen in tqdm(range(n_iter)):\n",
    "        sol=np.array(list(format(gen, binary_format))).astype(int)\n",
    "        # evaluate all candidates in the population\n",
    "        obj_val, df=objective(sol, 0, gen)\n",
    "        all_evals[gen]=obj_val\n",
    "        # save it to output\n",
    "        new_row=['Sum', '', '', '', '', obj_val]\n",
    "        new_df=pd.DataFrame([new_row], columns=cols)\n",
    "        df=pd.concat([df, new_df], ignore_index=True)\n",
    "        df.to_csv(f\"./outputs/sol{gen}_transactions.csv\", index=False)\n",
    "        np.save(f\"./outputs/sol{gen}_rules\", sol)\n",
    "    return all_evals"
   ]
  },
  {
   "cell_type": "code",
   "execution_count": 21,
   "metadata": {},
   "outputs": [
    {
     "name": "stderr",
     "output_type": "stream",
     "text": [
      "  1%|▋                                                                       | 9986/1048576 [06:02<10:27:40, 27.58it/s]\n"
     ]
    },
    {
     "ename": "KeyboardInterrupt",
     "evalue": "",
     "output_type": "error",
     "traceback": [
      "\u001b[1;31m---------------------------------------------------------------------------\u001b[0m",
      "\u001b[1;31mKeyboardInterrupt\u001b[0m                         Traceback (most recent call last)",
      "Input \u001b[1;32mIn [21]\u001b[0m, in \u001b[0;36m<cell line: 2>\u001b[1;34m()\u001b[0m\n\u001b[0;32m      1\u001b[0m \u001b[38;5;66;03m# perform the genetic algorithm search\u001b[39;00m\n\u001b[1;32m----> 2\u001b[0m all_scores \u001b[38;5;241m=\u001b[39m \u001b[43mexhaustive_search\u001b[49m\u001b[43m(\u001b[49m\u001b[43mfitness_func\u001b[49m\u001b[43m,\u001b[49m\u001b[43m \u001b[49m\u001b[43mn_bits\u001b[49m\u001b[43m)\u001b[49m\n\u001b[0;32m      3\u001b[0m \u001b[38;5;28mprint\u001b[39m(\u001b[38;5;124m'\u001b[39m\u001b[38;5;124mDone!\u001b[39m\u001b[38;5;124m'\u001b[39m)\n",
      "Input \u001b[1;32mIn [20]\u001b[0m, in \u001b[0;36mexhaustive_search\u001b[1;34m(objective, n_bits)\u001b[0m\n\u001b[0;32m      8\u001b[0m sol\u001b[38;5;241m=\u001b[39mnp\u001b[38;5;241m.\u001b[39marray(\u001b[38;5;28mlist\u001b[39m(\u001b[38;5;28mformat\u001b[39m(gen, binary_format)))\u001b[38;5;241m.\u001b[39mastype(\u001b[38;5;28mint\u001b[39m)\n\u001b[0;32m      9\u001b[0m \u001b[38;5;66;03m# evaluate all candidates in the population\u001b[39;00m\n\u001b[1;32m---> 10\u001b[0m obj_val, df\u001b[38;5;241m=\u001b[39m\u001b[43mobjective\u001b[49m\u001b[43m(\u001b[49m\u001b[43msol\u001b[49m\u001b[43m,\u001b[49m\u001b[43m \u001b[49m\u001b[38;5;241;43m0\u001b[39;49m\u001b[43m,\u001b[49m\u001b[43m \u001b[49m\u001b[43mgen\u001b[49m\u001b[43m)\u001b[49m\n\u001b[0;32m     11\u001b[0m all_evals[gen]\u001b[38;5;241m=\u001b[39mobj_val\n\u001b[0;32m     12\u001b[0m \u001b[38;5;66;03m# save it to output\u001b[39;00m\n",
      "Input \u001b[1;32mIn [18]\u001b[0m, in \u001b[0;36mfitness_func\u001b[1;34m(sol, sol_idx, generation_counter)\u001b[0m\n\u001b[0;32m     21\u001b[0m \u001b[38;5;28;01mif\u001b[39;00m current_day\u001b[38;5;241m+\u001b[39mhold_days \u001b[38;5;241m>\u001b[39m\u001b[38;5;241m=\u001b[39m df1\u001b[38;5;241m.\u001b[39mshape[\u001b[38;5;241m0\u001b[39m]:\n\u001b[0;32m     22\u001b[0m     \u001b[38;5;28;01mbreak\u001b[39;00m\n\u001b[1;32m---> 24\u001b[0m conds \u001b[38;5;241m=\u001b[39m all_rules[current_day]\u001b[38;5;241m.\u001b[39mastype(dtype\u001b[38;5;241m=\u001b[39m\u001b[38;5;28mint\u001b[39m) \u001b[38;5;241m^\u001b[39m \u001b[43msol\u001b[49m\u001b[43m[\u001b[49m\u001b[43m:\u001b[49m\u001b[38;5;241;43m-\u001b[39;49m\u001b[38;5;241;43m4\u001b[39;49m\u001b[43m]\u001b[49m\u001b[38;5;241;43m.\u001b[39;49m\u001b[43mastype\u001b[49m\u001b[43m(\u001b[49m\u001b[43mdtype\u001b[49m\u001b[38;5;241;43m=\u001b[39;49m\u001b[38;5;28;43mint\u001b[39;49m\u001b[43m)\u001b[49m\n\u001b[0;32m     25\u001b[0m \u001b[38;5;28;01mif\u001b[39;00m \u001b[38;5;28msum\u001b[39m(conds)\u001b[38;5;241m==\u001b[39m\u001b[38;5;241m0\u001b[39m:\n\u001b[0;32m     26\u001b[0m     \u001b[38;5;28;01mif\u001b[39;00m buy_day\u001b[38;5;241m==\u001b[39m\u001b[38;5;241m0\u001b[39m: \u001b[38;5;66;03m#if the buy signal is seen and buy hasn't been initialized\u001b[39;00m\n",
      "\u001b[1;31mKeyboardInterrupt\u001b[0m: "
     ]
    }
   ],
   "source": [
    "# perform the genetic algorithm search\n",
    "all_scores = exhaustive_search(fitness_func, n_bits)\n",
    "print('Done!')"
   ]
  },
  {
   "cell_type": "code",
   "execution_count": null,
   "metadata": {},
   "outputs": [],
   "source": [
    "sorted_scores_idx=np.argsort(all_scores)[::-1]\n",
    "sorted_scores=all_scores[sorted_scores_idx]\n",
    "print(f'The best solution is ranked below')\n",
    "for i in range(0, len(all_scores)):\n",
    "    print(f'sol{sorted_scores_idx[i]}, objective value={sorted_scores[i]}')"
   ]
  },
  {
   "cell_type": "code",
   "execution_count": 51,
   "metadata": {
    "scrolled": true
   },
   "outputs": [
    {
     "ename": "NameError",
     "evalue": "name 'all_scores' is not defined",
     "output_type": "error",
     "traceback": [
      "\u001b[1;31m---------------------------------------------------------------------------\u001b[0m",
      "\u001b[1;31mNameError\u001b[0m                                 Traceback (most recent call last)",
      "Input \u001b[1;32mIn [51]\u001b[0m, in \u001b[0;36m<cell line: 1>\u001b[1;34m()\u001b[0m\n\u001b[1;32m----> 1\u001b[0m plt\u001b[38;5;241m.\u001b[39mplot(\u001b[43mall_scores\u001b[49m)\n\u001b[0;32m      2\u001b[0m plt\u001b[38;5;241m.\u001b[39mxlabel(\u001b[38;5;124m\"\u001b[39m\u001b[38;5;124mgeneration\u001b[39m\u001b[38;5;124m\"\u001b[39m)\n\u001b[0;32m      3\u001b[0m plt\u001b[38;5;241m.\u001b[39mylabel(\u001b[38;5;124m\"\u001b[39m\u001b[38;5;124maverage of profit\u001b[39m\u001b[38;5;124m\"\u001b[39m)\n",
      "\u001b[1;31mNameError\u001b[0m: name 'all_scores' is not defined"
     ]
    }
   ],
   "source": [
    "plt.plot(all_scores)\n",
    "plt.xlabel(\"generation\")\n",
    "plt.ylabel(\"average of profit\")\n",
    "plt.title(f\"{ticker} stock\")"
   ]
  },
  {
   "cell_type": "code",
   "execution_count": 15,
   "metadata": {},
   "outputs": [
    {
     "ename": "FileExistsError",
     "evalue": "[WinError 183] Cannot create a file when that file already exists: '1000generation-outputs'",
     "output_type": "error",
     "traceback": [
      "\u001b[1;31m---------------------------------------------------------------------------\u001b[0m",
      "\u001b[1;31mFileExistsError\u001b[0m                           Traceback (most recent call last)",
      "Input \u001b[1;32mIn [15]\u001b[0m, in \u001b[0;36m<cell line: 11>\u001b[1;34m()\u001b[0m\n\u001b[0;32m      9\u001b[0m \u001b[38;5;66;03m# mutation rate\u001b[39;00m\n\u001b[0;32m     10\u001b[0m r_mut \u001b[38;5;241m=\u001b[39m \u001b[38;5;241m1.0\u001b[39m \u001b[38;5;241m/\u001b[39m \u001b[38;5;28mfloat\u001b[39m(n_bits)\n\u001b[1;32m---> 11\u001b[0m \u001b[43mos\u001b[49m\u001b[38;5;241;43m.\u001b[39;49m\u001b[43mmkdir\u001b[49m\u001b[43m(\u001b[49m\u001b[38;5;124;43mf\u001b[39;49m\u001b[38;5;124;43m\"\u001b[39;49m\u001b[38;5;132;43;01m{\u001b[39;49;00m\u001b[43mn_iter\u001b[49m\u001b[38;5;132;43;01m}\u001b[39;49;00m\u001b[38;5;124;43mgeneration-outputs\u001b[39;49m\u001b[38;5;124;43m\"\u001b[39;49m\u001b[43m)\u001b[49m\n",
      "\u001b[1;31mFileExistsError\u001b[0m: [WinError 183] Cannot create a file when that file already exists: '1000generation-outputs'"
     ]
    }
   ],
   "source": [
    "# define the total iterations\n",
    "n_iter = 1000\n",
    "# bits\n",
    "n_bits = all_rules.shape[1]+4\n",
    "# define the population size\n",
    "n_pop = 100\n",
    "# crossover rate\n",
    "r_cross = 0.9\n",
    "# mutation rate\n",
    "r_mut = 1.0 / float(n_bits)\n",
    "os.mkdir(f\"{n_iter}generation-outputs\")"
   ]
  },
  {
   "cell_type": "code",
   "execution_count": 17,
   "metadata": {},
   "outputs": [
    {
     "name": "stdout",
     "output_type": "stream",
     "text": [
      ">15, new best f([0, 1, 0, 0, 0, 0, 0, 0, 0, 0, 0, 0, 1, 0, 0, 0, 1, 1, 1, 0]) = 0.122\n",
      ">44, new best f([1, 1, 1, 1, 1, 1, 1, 1, 1, 0, 0, 1, 0, 0, 0, 0, 1, 0, 0, 1]) = 0.246\n",
      ">45, new best f([1, 1, 1, 1, 1, 1, 1, 1, 1, 0, 0, 1, 0, 0, 0, 0, 1, 1, 0, 1]) = 0.259\n",
      ">46, new best f([1, 0, 0, 0, 0, 1, 1, 1, 0, 1, 1, 0, 0, 0, 0, 0, 1, 0, 1, 0]) = 0.382\n",
      ">126, new best f([0, 0, 0, 0, 0, 1, 1, 1, 0, 0, 0, 0, 0, 0, 0, 0, 1, 1, 0, 0]) = 0.394\n",
      ">148, new best f([1, 0, 0, 0, 0, 1, 1, 1, 0, 1, 1, 0, 0, 0, 0, 0, 1, 0, 1, 1]) = 0.423\n",
      ">148, new best f([1, 0, 0, 0, 0, 1, 1, 1, 0, 1, 1, 0, 0, 0, 0, 0, 1, 1, 0, 1]) = 0.444\n",
      ">149, new best f([1, 0, 0, 0, 0, 1, 1, 1, 0, 1, 1, 0, 0, 0, 0, 0, 1, 1, 1, 1]) = 0.562\n",
      ">702, new best f([0, 0, 0, 1, 1, 1, 1, 1, 1, 0, 0, 0, 0, 0, 0, 0, 1, 1, 1, 1]) = 0.721\n",
      "Done!\n",
      "f([0, 0, 0, 1, 1, 1, 1, 1, 1, 0, 0, 0, 0, 0, 0, 0, 1, 1, 1, 1]) = 0.720718\n"
     ]
    }
   ],
   "source": [
    "# perform the genetic algorithm search\n",
    "best, score, all_scores = genetic_algorithm(fitness_func, n_bits, n_iter, n_pop, r_cross, r_mut)\n",
    "print('Done!')\n",
    "print('f(%s) = %f' % (best, score))"
   ]
  },
  {
   "cell_type": "code",
   "execution_count": 18,
   "metadata": {},
   "outputs": [
    {
     "data": {
      "text/plain": [
       "Text(0.5, 1.0, 'TSLA stock')"
      ]
     },
     "execution_count": 18,
     "metadata": {},
     "output_type": "execute_result"
    },
    {
     "data": {
      "image/png": "[encoded data removed]",
      "text/plain": [
       "<Figure size 432x288 with 1 Axes>"
      ]
     },
     "metadata": {
      "needs_background": "light"
     },
     "output_type": "display_data"
    }
   ],
   "source": [
    "plt.plot(all_scores)\n",
    "plt.xlabel(\"generation\")\n",
    "plt.ylabel(\"average of profit\")\n",
    "plt.title(f\"{ticker} stock\")"
   ]
  },
  {
   "cell_type": "code",
   "execution_count": null,
   "metadata": {},
   "outputs": [],
   "source": []
  }
 ],
 "metadata": {
  "colab": {
   "provenance": []
  },
  "kernelspec": {
   "display_name": "Python 3 (ipykernel)",
   "language": "python",
   "name": "python3"
  },
  "language_info": {
   "codemirror_mode": {
    "name": "ipython",
    "version": 3
   },
   "file_extension": ".py",
   "mimetype": "text/x-python",
   "name": "python",
   "nbconvert_exporter": "python",
   "pygments_lexer": "ipython3",
   "version": "3.9.12"
  }
 },
 "nbformat": 4,
 "nbformat_minor": 1
}
